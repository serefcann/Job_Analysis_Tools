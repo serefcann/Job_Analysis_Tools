{
 "cells": [
  {
   "cell_type": "code",
   "execution_count": 9,
   "id": "11b61da6",
   "metadata": {},
   "outputs": [],
   "source": [
    "import os\n",
    "import google.generativeai as genai\n",
    "import ast\n",
    "import pandas as pd\n",
    "import time"
   ]
  },
  {
   "cell_type": "code",
   "execution_count": 10,
   "id": "d187ca75",
   "metadata": {},
   "outputs": [],
   "source": [
    "def initiliaze_ai(api_key):\n",
    "    return genai.configure(api_key=api_key)"
   ]
  },
  {
   "cell_type": "code",
   "execution_count": 1,
   "id": "e0dbf735",
   "metadata": {},
   "outputs": [],
   "source": [
    "def model(descriptions):\n",
    "    model = genai.GenerativeModel(\"gemini-1.5-flash\")\n",
    "    desc_list = []\n",
    "    for index, description in enumerate(descriptions):\n",
    "        if index % 15 == 0: # benefiting from free trial\n",
    "            time.sleep(120)\n",
    "        try:\n",
    "            response = model.generate_content(\n",
    "            f\"You are a skilled assistant with the competence to extract technologies from job descriptions. Given the following description, extract a list of tools, programming languages, and frameworks mentioned. Identify all mentioned tools, programming languages, and frameworks. Focus on 'Requirements,' 'Qualifications,' or 'What you'll need,' but also thoroughly review the entire description for relevant information. Exclude general phrases like 'ability to work in a team,' and specifically exclude non-technical terms such as 'English,' 'data analysis,' and 'Machine Learning.' List the technologies separated by commas in the format ['key', 'anotherkey']. Include duplicates. If a technology is mentioned multiple times in the description or across different descriptions, list it multiple times. Concrete tools include software applications, libraries, and databases (e.g., React, Pandas, MySQL). Programming languages are explicitly named languages (e.g., Python, Java, JavaScript). Frameworks include explicitly named frameworks (e.g., Spring Boot, Angular). Exclude non-technical things like 'English,' 'data analysis,' and 'Machine Learning' \\n\\n Job Descriptions: {description}\\n\\nTechnologies and skills:\",\n",
    "            generation_config = genai.types.GenerationConfig(\n",
    "            stop_sequences='\\n',\n",
    "            max_output_tokens=100,\n",
    "            temperature=0.4\n",
    "            ),\n",
    "            )\n",
    "            tech_text= response.text\n",
    "            if tech_text:\n",
    "                tech_list = ast.literal_eval(tech_text)\n",
    "                desc_list.extend(tech_list)\n",
    "\n",
    "            #print(response.text)\n",
    "        except Exception as e:\n",
    "            print(f'passed {index} {e}')\n",
    "            pass\n",
    "    \n",
    "    \n",
    "    return pd.DataFrame(desc_list)"
   ]
  },
  {
   "cell_type": "code",
   "execution_count": 2,
   "id": "ee6807a4",
   "metadata": {},
   "outputs": [],
   "source": [
    "def main():\n",
    "    initiliaze_ai(api_key = your_api_key)\n",
    "    job_df = pd.read_csv('jobs.csv').dropna()\n",
    "    descriptions = job_df['clean_texts'].to_list()\n",
    "    proccessed_desc= model(descriptions)\n",
    "    proccessed_desc.to_csv('keywords.csv',index=False)"
   ]
  },
  {
   "cell_type": "code",
   "execution_count": null,
   "id": "403a4edd",
   "metadata": {},
   "outputs": [],
   "source": [
    "if __name__ == '__main__':\n",
    "    main()"
   ]
  }
 ],
 "metadata": {
  "kernelspec": {
   "display_name": "Python 3 (ipykernel)",
   "language": "python",
   "name": "python3"
  },
  "language_info": {
   "codemirror_mode": {
    "name": "ipython",
    "version": 3
   },
   "file_extension": ".py",
   "mimetype": "text/x-python",
   "name": "python",
   "nbconvert_exporter": "python",
   "pygments_lexer": "ipython3",
   "version": "3.11.5"
  }
 },
 "nbformat": 4,
 "nbformat_minor": 5
}
